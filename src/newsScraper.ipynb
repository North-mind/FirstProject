{
 "cells": [
  {
   "cell_type": "code",
   "execution_count": null,
   "metadata": {},
   "outputs": [],
   "source": [
    "from bs4 import BeautifulSoup\n",
    "import requests\n",
    "\n",
    "import sqlite3\n",
    "from sqlite3 import Error\n",
    "\n",
    "import os\n",
    "import time\n",
    "import pandas as pd"
   ]
  },
  {
   "cell_type": "code",
   "execution_count": null,
   "metadata": {},
   "outputs": [],
   "source": [
    "def createConnection(db_file):\n",
    "    conn = None\n",
    "    try:\n",
    "        conn = sqlite3.connect(db_file)\n",
    "        return conn\n",
    "    except Error as e:\n",
    "        print(e)\n",
    " \n",
    "    return conn"
   ]
  },
  {
   "cell_type": "code",
   "execution_count": null,
   "metadata": {},
   "outputs": [],
   "source": [
    "def createTable(conn, create_table_sql):\n",
    "    try:\n",
    "        c = conn.cursor()\n",
    "        c.execute(create_table_sql)\n",
    "    except Error as e:\n",
    "        print(e)"
   ]
  },
  {
   "cell_type": "code",
   "execution_count": null,
   "metadata": {},
   "outputs": [],
   "source": [
    "def createEntry(conn, entry):\n",
    "    try:\n",
    "        sql = ''' INSERT INTO articles(articleUrl, category, publicationTime, articleContent)\n",
    "                  VALUES(?,?,?,?) '''\n",
    "        cur = conn.cursor()\n",
    "        cur.execute(sql, entry)\n",
    "    except Error as e:\n",
    "        print(e)\n",
    "    return "
   ]
  },
  {
   "cell_type": "code",
   "execution_count": null,
   "metadata": {},
   "outputs": [],
   "source": [
    "def fetchSite(siteUrl):\n",
    "#     print(\"Getting data from: {}\".format(siteUrl)) # comment this one out for normal usage\n",
    "    headers = requests.utils.default_headers()\n",
    "    headers.update({'User-Agent': 'Mozilla/5.0 (X11; Ubuntu; Linux x86_64; rv:52.0) Gecko/20100101 Firefox/52.0',})\n",
    "    \n",
    "    try:\n",
    "        htmlFile = requests.get(siteUrl, headers=headers)\n",
    "    except:\n",
    "        print(\"Some connection problem @ {} - waiting for 5 seconds to retry...\".format(siteUrl))\n",
    "        time.sleep(5)\n",
    "        htmlFile = requests.get(siteUrl, headers=headers)\n",
    "    return BeautifulSoup(htmlFile.content, \"lxml\")"
   ]
  },
  {
   "cell_type": "code",
   "execution_count": null,
   "metadata": {},
   "outputs": [],
   "source": [
    "def extractLinks(siteUrl, sitePrefix):\n",
    "    links = [element.find(\"h3\") for element in fetchSite(siteUrl).find_all(\"div\", {\"class\":\"contDetails\"})]\n",
    "    links = [sitePrefix + element.find(\"a\")[\"href\"] for element in links]\n",
    "    return links"
   ]
  },
  {
   "cell_type": "code",
   "execution_count": null,
   "metadata": {},
   "outputs": [],
   "source": [
    "def drillCategory(baseUrl, sitePrefix, minArticlesNo = 100):\n",
    "    articlesUrls = []\n",
    "    \n",
    "    currentUrl = baseUrl\n",
    "    pageCounter = 1\n",
    "    while len(articlesUrls) <= minArticlesNo:\n",
    "        [articlesUrls.append(url) for url in extractLinks(currentUrl, sitePrefix)]\n",
    "        \n",
    "        pageCounter += 1\n",
    "        currentUrl = baseUrl + \",nPack,\" + str(pageCounter)\n",
    "        \n",
    "        print(\"So far, extracted {} urls on {} pages...\".format(len(articlesUrls), pageCounter - 1))\n",
    "    \n",
    "    return articlesUrls"
   ]
  },
  {
   "cell_type": "code",
   "execution_count": null,
   "metadata": {},
   "outputs": [],
   "source": [
    "def extractArticleDetails(articleUrl):\n",
    "    article = fetchSite(articleUrl)\n",
    "    \n",
    "    publicationTime = article.find(\"div\", {\"class\":\"article-date\"}).find(\"meta\")[\"content\"]\n",
    "    articleContent = \" \".join([p.text for p in article.find(\"div\", {\"class\":\"articleContent\"}).find_all(\"p\")])\n",
    "    \n",
    "    return publicationTime, articleContent"
   ]
  },
  {
   "cell_type": "code",
   "execution_count": null,
   "metadata": {},
   "outputs": [],
   "source": [
    "def runScraper(articlesSource, conn, minArticlesNo = 20, sitePrefix = \"\"):\n",
    "    for category, categoryUrl in articlesSource.items():\n",
    "        print(\"\\n--- Category: {}\\n\".format(category))\n",
    "\n",
    "        articlesCounter = 0\n",
    "        for articleUrl in drillCategory(categoryUrl, sitePrefix, minArticlesNo):\n",
    "            publicationTime, articleContent = extractArticleDetails(articleUrl)\n",
    "\n",
    "            createEntry(conn ,(articleUrl, category, publicationTime, articleContent))\n",
    "\n",
    "            articlesCounter +=1\n",
    "            if articlesCounter % 10 == 0: \n",
    "                print(\"Wow! Already have {} articles in category '{}'!\".format(articlesCounter, category))\n",
    "\n",
    "        print(\"Total number of articles in category '{}': {}\".format(category, articlesCounter))"
   ]
  },
  {
   "cell_type": "code",
   "execution_count": null,
   "metadata": {},
   "outputs": [],
   "source": [
    "# setting up source\n",
    "articlesSource = {\"kraj\":\"https://www.rmf24.pl/fakty/polska/\", \n",
    "                  \"świat\":\"https://www.rmf24.pl/fakty/swiat/\", \n",
    "                  \"kultura\":\"https://www.rmf24.pl/kultura/\", \n",
    "                  \"ekonomia\":\"https://www.rmf24.pl/ekonomia/\", \n",
    "                  \"sport\":\"https://www.rmf24.pl/sport/\", \n",
    "                  \"nauka\":\"https://www.rmf24.pl/nauka/\"}\n",
    "minArticlesNo = 1000\n",
    "sitePrefix = \"https://www.rmf24.pl\"\n",
    "\n",
    "# database connection setup\n",
    "if not os.path.exists(\"../data\"):\n",
    "    os.mkdir(\"../data\")\n",
    "conn = createConnection(\"../data/newsDatabase.db\")\n",
    "\n",
    "# creating table for articles\n",
    "sqlCreateArticlesTable = \"\"\" CREATE TABLE IF NOT EXISTS articles (\n",
    "                                        id integer PRIMARY KEY,\n",
    "                                        articleUrl text,\n",
    "                                        category text,\n",
    "                                        publicationTime text,\n",
    "                                        articleContent text\n",
    "                                    ); \"\"\"\n",
    "createTable(conn, sqlCreateArticlesTable)\n",
    "\n",
    "# main part\n",
    "runScraper(articlesSource, conn, minArticlesNo, sitePrefix)"
   ]
  },
  {
   "cell_type": "code",
   "execution_count": null,
   "metadata": {},
   "outputs": [],
   "source": [
    "articlesData = pd.read_sql_query(\"SELECT * FROM articles\", conn, index_col = \"id\")"
   ]
  },
  {
   "cell_type": "code",
   "execution_count": null,
   "metadata": {},
   "outputs": [],
   "source": [
    "articlesData.info()"
   ]
  },
  {
   "cell_type": "code",
   "execution_count": null,
   "metadata": {},
   "outputs": [],
   "source": [
    "articlesData.head(20)"
   ]
  },
  {
   "cell_type": "code",
   "execution_count": null,
   "metadata": {},
   "outputs": [],
   "source": []
  },
  {
   "cell_type": "code",
   "execution_count": null,
   "metadata": {},
   "outputs": [],
   "source": []
  }
 ],
 "metadata": {
  "kernelspec": {
   "display_name": "Python 3",
   "language": "python",
   "name": "python3"
  },
  "language_info": {
   "codemirror_mode": {
    "name": "ipython",
    "version": 3
   },
   "file_extension": ".py",
   "mimetype": "text/x-python",
   "name": "python",
   "nbconvert_exporter": "python",
   "pygments_lexer": "ipython3",
   "version": "3.7.3"
  }
 },
 "nbformat": 4,
 "nbformat_minor": 2
}
