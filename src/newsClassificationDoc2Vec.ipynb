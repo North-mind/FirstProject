{
 "cells": [
  {
   "cell_type": "code",
   "execution_count": 1,
   "metadata": {},
   "outputs": [],
   "source": [
    "import numpy as np\n",
    "import pandas as pd\n",
    "\n",
    "import pickle\n",
    "import multiprocessing\n",
    "from datetime import datetime\n",
    "\n",
    "from nltk.corpus import stopwords\n",
    "from morfeusz2 import Morfeusz\n",
    "\n",
    "from gensim.models import Word2Vec, Doc2Vec\n",
    "from gensim.models.doc2vec import TaggedDocument\n",
    "from gensim.utils import simple_preprocess\n",
    "\n",
    "from sklearn.model_selection import train_test_split\n",
    "from sklearn.metrics import confusion_matrix, classification_report, accuracy_score\n",
    "from sklearn.pipeline import Pipeline\n",
    "\n",
    "from sklearn.linear_model import LogisticRegression\n",
    "from sklearn.ensemble import RandomForestClassifier\n",
    "from sklearn.svm import SVC"
   ]
  },
  {
   "cell_type": "code",
   "execution_count": 2,
   "metadata": {},
   "outputs": [],
   "source": [
    "from tqdm.auto import tqdm\n",
    "tqdm.pandas()"
   ]
  },
  {
   "cell_type": "code",
   "execution_count": 3,
   "metadata": {},
   "outputs": [
    {
     "data": {
      "text/html": [
       "<div>\n",
       "<style scoped>\n",
       "    .dataframe tbody tr th:only-of-type {\n",
       "        vertical-align: middle;\n",
       "    }\n",
       "\n",
       "    .dataframe tbody tr th {\n",
       "        vertical-align: top;\n",
       "    }\n",
       "\n",
       "    .dataframe thead th {\n",
       "        text-align: right;\n",
       "    }\n",
       "</style>\n",
       "<table border=\"1\" class=\"dataframe\">\n",
       "  <thead>\n",
       "    <tr style=\"text-align: right;\">\n",
       "      <th></th>\n",
       "      <th>articleUrl</th>\n",
       "      <th>category</th>\n",
       "      <th>publicationTime</th>\n",
       "      <th>articleContent</th>\n",
       "      <th>articleLength</th>\n",
       "    </tr>\n",
       "    <tr>\n",
       "      <th>id</th>\n",
       "      <th></th>\n",
       "      <th></th>\n",
       "      <th></th>\n",
       "      <th></th>\n",
       "      <th></th>\n",
       "    </tr>\n",
       "  </thead>\n",
       "  <tbody>\n",
       "    <tr>\n",
       "      <th>1</th>\n",
       "      <td>https://www.rmf24.pl/fakty/polska/news-piontko...</td>\n",
       "      <td>kraj</td>\n",
       "      <td>2019-08-26T18:37:00</td>\n",
       "      <td>Szef MEN odniósł się do informacji podanych p...</td>\n",
       "      <td>2025</td>\n",
       "    </tr>\n",
       "    <tr>\n",
       "      <th>2</th>\n",
       "      <td>https://www.rmf24.pl/fakty/polska/news-rzeczni...</td>\n",
       "      <td>kraj</td>\n",
       "      <td>2019-08-26T17:47:28</td>\n",
       "      <td>Jak podkreślił Müller, Janusz Wojciechowski to...</td>\n",
       "      <td>983</td>\n",
       "    </tr>\n",
       "    <tr>\n",
       "      <th>3</th>\n",
       "      <td>https://www.rmf24.pl/fakty/polska/news-kto-bed...</td>\n",
       "      <td>kraj</td>\n",
       "      <td>2019-08-26T17:20:00</td>\n",
       "      <td>Z nieoficjalnych rozmów reportera RMF FM z prz...</td>\n",
       "      <td>884</td>\n",
       "    </tr>\n",
       "    <tr>\n",
       "      <th>4</th>\n",
       "      <td>https://www.rmf24.pl/fakty/polska/news-mieszka...</td>\n",
       "      <td>kraj</td>\n",
       "      <td>2019-08-26T17:09:20</td>\n",
       "      <td>Powód to groźne dla zdrowia bakterie - enter...</td>\n",
       "      <td>583</td>\n",
       "    </tr>\n",
       "    <tr>\n",
       "      <th>5</th>\n",
       "      <td>https://www.rmf24.pl/fakty/polska/news-ponad-3...</td>\n",
       "      <td>kraj</td>\n",
       "      <td>2019-08-26T17:01:00</td>\n",
       "      <td>Filip, Tymon, Zosia, Kaja, Malwina i Nela to p...</td>\n",
       "      <td>746</td>\n",
       "    </tr>\n",
       "  </tbody>\n",
       "</table>\n",
       "</div>"
      ],
      "text/plain": [
       "                                           articleUrl category  \\\n",
       "id                                                               \n",
       "1   https://www.rmf24.pl/fakty/polska/news-piontko...     kraj   \n",
       "2   https://www.rmf24.pl/fakty/polska/news-rzeczni...     kraj   \n",
       "3   https://www.rmf24.pl/fakty/polska/news-kto-bed...     kraj   \n",
       "4   https://www.rmf24.pl/fakty/polska/news-mieszka...     kraj   \n",
       "5   https://www.rmf24.pl/fakty/polska/news-ponad-3...     kraj   \n",
       "\n",
       "        publicationTime                                     articleContent  \\\n",
       "id                                                                           \n",
       "1   2019-08-26T18:37:00   Szef MEN odniósł się do informacji podanych p...   \n",
       "2   2019-08-26T17:47:28  Jak podkreślił Müller, Janusz Wojciechowski to...   \n",
       "3   2019-08-26T17:20:00  Z nieoficjalnych rozmów reportera RMF FM z prz...   \n",
       "4   2019-08-26T17:09:20    Powód to groźne dla zdrowia bakterie - enter...   \n",
       "5   2019-08-26T17:01:00  Filip, Tymon, Zosia, Kaja, Malwina i Nela to p...   \n",
       "\n",
       "    articleLength  \n",
       "id                 \n",
       "1            2025  \n",
       "2             983  \n",
       "3             884  \n",
       "4             583  \n",
       "5             746  "
      ]
     },
     "execution_count": 3,
     "metadata": {},
     "output_type": "execute_result"
    }
   ],
   "source": [
    "# reading DataFrame from pickle\n",
    "with open('../data/newsData.pickle', 'rb') as pickleInput:\n",
    "    articlesData = pickle.load(pickleInput)\n",
    "    \n",
    "articlesData.head()"
   ]
  },
  {
   "cell_type": "code",
   "execution_count": 4,
   "metadata": {},
   "outputs": [],
   "source": [
    "# article transformation/tokenisation\n",
    "morf = Morfeusz()\n",
    "\n",
    "def morfLemats(text, morf):\n",
    "    analysis = morf.analyse(text)\n",
    "    lemats = []\n",
    "    lineCount = 0\n",
    "    for line in analysis:\n",
    "        if line[0] == lineCount:\n",
    "            lineCount += 1\n",
    "            lemats.append(line[2][1].split(\":\")[0])\n",
    "            \n",
    "    return lemats\n",
    "\n",
    "def textProcess(mess):\n",
    "    # remove punctuation\n",
    "    mess = \" \".join(simple_preprocess(mess))\n",
    "\n",
    "    # change words to lemmats\n",
    "    mess = morfLemats(mess, morf)\n",
    "    \n",
    "    # remove stopwords\n",
    "    mess = [word for word in mess if word not in stopwords.words(\"polish\")]\n",
    "    \n",
    "    return mess"
   ]
  },
  {
   "cell_type": "code",
   "execution_count": 5,
   "metadata": {},
   "outputs": [
    {
     "data": {
      "application/vnd.jupyter.widget-view+json": {
       "model_id": "39f150fc68d246eb8dfab535c463d58e",
       "version_major": 2,
       "version_minor": 0
      },
      "text/plain": [
       "HBox(children=(IntProgress(value=0, max=12583), HTML(value='')))"
      ]
     },
     "metadata": {},
     "output_type": "display_data"
    },
    {
     "name": "stdout",
     "output_type": "stream",
     "text": [
      "\n"
     ]
    }
   ],
   "source": [
    "articlesTagged = articlesData.progress_apply(lambda article: TaggedDocument(words=textProcess(article['articleContent']), \n",
    "                                                                            tags=[article[\"category\"]]), axis=1)"
   ]
  },
  {
   "cell_type": "code",
   "execution_count": 6,
   "metadata": {},
   "outputs": [],
   "source": [
    "articlesTrain, articlesTest = train_test_split(articlesTagged, test_size=0.2)"
   ]
  },
  {
   "cell_type": "code",
   "execution_count": 7,
   "metadata": {},
   "outputs": [],
   "source": [
    "cores = multiprocessing.cpu_count()"
   ]
  },
  {
   "cell_type": "code",
   "execution_count": 8,
   "metadata": {},
   "outputs": [
    {
     "data": {
      "application/vnd.jupyter.widget-view+json": {
       "model_id": "3110bd572e6941ccbc2901b8aad16476",
       "version_major": 2,
       "version_minor": 0
      },
      "text/plain": [
       "HBox(children=(IntProgress(value=0, max=10066), HTML(value='')))"
      ]
     },
     "metadata": {},
     "output_type": "display_data"
    },
    {
     "name": "stdout",
     "output_type": "stream",
     "text": [
      "\n"
     ]
    }
   ],
   "source": [
    "articlesModel = Doc2Vec(vector_size=300, min_count = 1, sample = 0, workers = cores)\n",
    "articlesModel.build_vocab([word for word in tqdm(articlesTrain.values)])"
   ]
  },
  {
   "cell_type": "code",
   "execution_count": 9,
   "metadata": {},
   "outputs": [
    {
     "data": {
      "application/vnd.jupyter.widget-view+json": {
       "model_id": "e581764936584bf3931c50812867c755",
       "version_major": 2,
       "version_minor": 0
      },
      "text/plain": [
       "HBox(children=(IntProgress(value=0, max=10066), HTML(value='')))"
      ]
     },
     "metadata": {},
     "output_type": "display_data"
    },
    {
     "name": "stdout",
     "output_type": "stream",
     "text": [
      "\n"
     ]
    },
    {
     "data": {
      "application/vnd.jupyter.widget-view+json": {
       "model_id": "e6218ba35ede48b78ce4d687fedd7b1a",
       "version_major": 2,
       "version_minor": 0
      },
      "text/plain": [
       "HBox(children=(IntProgress(value=0, max=10066), HTML(value='')))"
      ]
     },
     "metadata": {},
     "output_type": "display_data"
    },
    {
     "name": "stdout",
     "output_type": "stream",
     "text": [
      "\n"
     ]
    },
    {
     "data": {
      "application/vnd.jupyter.widget-view+json": {
       "model_id": "b4cfef2831214a97b6aea85972a63c56",
       "version_major": 2,
       "version_minor": 0
      },
      "text/plain": [
       "HBox(children=(IntProgress(value=0, max=10066), HTML(value='')))"
      ]
     },
     "metadata": {},
     "output_type": "display_data"
    },
    {
     "name": "stdout",
     "output_type": "stream",
     "text": [
      "\n"
     ]
    },
    {
     "data": {
      "application/vnd.jupyter.widget-view+json": {
       "model_id": "23eb1c929f954f8eaf0e25aad4dd2ddd",
       "version_major": 2,
       "version_minor": 0
      },
      "text/plain": [
       "HBox(children=(IntProgress(value=0, max=10066), HTML(value='')))"
      ]
     },
     "metadata": {},
     "output_type": "display_data"
    },
    {
     "name": "stdout",
     "output_type": "stream",
     "text": [
      "\n"
     ]
    },
    {
     "data": {
      "application/vnd.jupyter.widget-view+json": {
       "model_id": "2b53a60b884a442ab04b0e6cd6aef7eb",
       "version_major": 2,
       "version_minor": 0
      },
      "text/plain": [
       "HBox(children=(IntProgress(value=0, max=10066), HTML(value='')))"
      ]
     },
     "metadata": {},
     "output_type": "display_data"
    },
    {
     "name": "stdout",
     "output_type": "stream",
     "text": [
      "\n"
     ]
    },
    {
     "data": {
      "application/vnd.jupyter.widget-view+json": {
       "model_id": "68cd8fb3670840858d06fdc5fac4d605",
       "version_major": 2,
       "version_minor": 0
      },
      "text/plain": [
       "HBox(children=(IntProgress(value=0, max=10066), HTML(value='')))"
      ]
     },
     "metadata": {},
     "output_type": "display_data"
    },
    {
     "name": "stdout",
     "output_type": "stream",
     "text": [
      "\n"
     ]
    },
    {
     "data": {
      "application/vnd.jupyter.widget-view+json": {
       "model_id": "3515813316fe45ec991e19e24723ddd0",
       "version_major": 2,
       "version_minor": 0
      },
      "text/plain": [
       "HBox(children=(IntProgress(value=0, max=10066), HTML(value='')))"
      ]
     },
     "metadata": {},
     "output_type": "display_data"
    },
    {
     "name": "stdout",
     "output_type": "stream",
     "text": [
      "\n"
     ]
    },
    {
     "data": {
      "application/vnd.jupyter.widget-view+json": {
       "model_id": "b9d75759ee9e4c3a8cf552ba424e83ec",
       "version_major": 2,
       "version_minor": 0
      },
      "text/plain": [
       "HBox(children=(IntProgress(value=0, max=10066), HTML(value='')))"
      ]
     },
     "metadata": {},
     "output_type": "display_data"
    },
    {
     "name": "stdout",
     "output_type": "stream",
     "text": [
      "\n"
     ]
    },
    {
     "data": {
      "application/vnd.jupyter.widget-view+json": {
       "model_id": "f1120daa00144a7fa7b6f4a5acecac06",
       "version_major": 2,
       "version_minor": 0
      },
      "text/plain": [
       "HBox(children=(IntProgress(value=0, max=10066), HTML(value='')))"
      ]
     },
     "metadata": {},
     "output_type": "display_data"
    },
    {
     "name": "stdout",
     "output_type": "stream",
     "text": [
      "\n"
     ]
    },
    {
     "data": {
      "application/vnd.jupyter.widget-view+json": {
       "model_id": "4d564248395b44ebadb63725a51e4d4d",
       "version_major": 2,
       "version_minor": 0
      },
      "text/plain": [
       "HBox(children=(IntProgress(value=0, max=10066), HTML(value='')))"
      ]
     },
     "metadata": {},
     "output_type": "display_data"
    },
    {
     "name": "stdout",
     "output_type": "stream",
     "text": [
      "\n"
     ]
    },
    {
     "data": {
      "application/vnd.jupyter.widget-view+json": {
       "model_id": "8bddcd8faa404d54b0be9724a12030fa",
       "version_major": 2,
       "version_minor": 0
      },
      "text/plain": [
       "HBox(children=(IntProgress(value=0, max=10066), HTML(value='')))"
      ]
     },
     "metadata": {},
     "output_type": "display_data"
    },
    {
     "name": "stdout",
     "output_type": "stream",
     "text": [
      "\n"
     ]
    },
    {
     "data": {
      "application/vnd.jupyter.widget-view+json": {
       "model_id": "4eb43dfa4378419798477ab05717c924",
       "version_major": 2,
       "version_minor": 0
      },
      "text/plain": [
       "HBox(children=(IntProgress(value=0, max=10066), HTML(value='')))"
      ]
     },
     "metadata": {},
     "output_type": "display_data"
    },
    {
     "name": "stdout",
     "output_type": "stream",
     "text": [
      "\n"
     ]
    },
    {
     "data": {
      "application/vnd.jupyter.widget-view+json": {
       "model_id": "22f01486d1db4401b37007e3250f797b",
       "version_major": 2,
       "version_minor": 0
      },
      "text/plain": [
       "HBox(children=(IntProgress(value=0, max=10066), HTML(value='')))"
      ]
     },
     "metadata": {},
     "output_type": "display_data"
    },
    {
     "name": "stdout",
     "output_type": "stream",
     "text": [
      "\n"
     ]
    },
    {
     "data": {
      "application/vnd.jupyter.widget-view+json": {
       "model_id": "1df3394b0b5541e5bce29d3f32ba3c95",
       "version_major": 2,
       "version_minor": 0
      },
      "text/plain": [
       "HBox(children=(IntProgress(value=0, max=10066), HTML(value='')))"
      ]
     },
     "metadata": {},
     "output_type": "display_data"
    },
    {
     "name": "stdout",
     "output_type": "stream",
     "text": [
      "\n"
     ]
    },
    {
     "data": {
      "application/vnd.jupyter.widget-view+json": {
       "model_id": "1a382db3f0544774930a28837a77ab58",
       "version_major": 2,
       "version_minor": 0
      },
      "text/plain": [
       "HBox(children=(IntProgress(value=0, max=10066), HTML(value='')))"
      ]
     },
     "metadata": {},
     "output_type": "display_data"
    },
    {
     "name": "stdout",
     "output_type": "stream",
     "text": [
      "\n"
     ]
    },
    {
     "data": {
      "application/vnd.jupyter.widget-view+json": {
       "model_id": "be1321da3e3f4de29668519d20a11466",
       "version_major": 2,
       "version_minor": 0
      },
      "text/plain": [
       "HBox(children=(IntProgress(value=0, max=10066), HTML(value='')))"
      ]
     },
     "metadata": {},
     "output_type": "display_data"
    },
    {
     "name": "stdout",
     "output_type": "stream",
     "text": [
      "\n"
     ]
    },
    {
     "data": {
      "application/vnd.jupyter.widget-view+json": {
       "model_id": "3c00d9fea35c4d838a06a55a0e3f64e6",
       "version_major": 2,
       "version_minor": 0
      },
      "text/plain": [
       "HBox(children=(IntProgress(value=0, max=10066), HTML(value='')))"
      ]
     },
     "metadata": {},
     "output_type": "display_data"
    },
    {
     "name": "stdout",
     "output_type": "stream",
     "text": [
      "\n"
     ]
    },
    {
     "data": {
      "application/vnd.jupyter.widget-view+json": {
       "model_id": "2139d3353ceb40b090ae02318c75cf70",
       "version_major": 2,
       "version_minor": 0
      },
      "text/plain": [
       "HBox(children=(IntProgress(value=0, max=10066), HTML(value='')))"
      ]
     },
     "metadata": {},
     "output_type": "display_data"
    },
    {
     "name": "stdout",
     "output_type": "stream",
     "text": [
      "\n"
     ]
    },
    {
     "data": {
      "application/vnd.jupyter.widget-view+json": {
       "model_id": "016bd01d41294319bf794501ad77351d",
       "version_major": 2,
       "version_minor": 0
      },
      "text/plain": [
       "HBox(children=(IntProgress(value=0, max=10066), HTML(value='')))"
      ]
     },
     "metadata": {},
     "output_type": "display_data"
    },
    {
     "name": "stdout",
     "output_type": "stream",
     "text": [
      "\n"
     ]
    },
    {
     "data": {
      "application/vnd.jupyter.widget-view+json": {
       "model_id": "6de29eeeb05946ea996877fddcb32d6e",
       "version_major": 2,
       "version_minor": 0
      },
      "text/plain": [
       "HBox(children=(IntProgress(value=0, max=10066), HTML(value='')))"
      ]
     },
     "metadata": {},
     "output_type": "display_data"
    },
    {
     "name": "stdout",
     "output_type": "stream",
     "text": [
      "\n"
     ]
    }
   ],
   "source": [
    "for epoch in range(20):\n",
    "    articlesModel.train(tqdm(articlesTrain), total_examples=articlesModel.corpus_count, epochs=1)"
   ]
  },
  {
   "cell_type": "code",
   "execution_count": 10,
   "metadata": {},
   "outputs": [],
   "source": [
    "def inferVectors(model, tagged_docs):\n",
    "    sents = tqdm(tagged_docs.values)\n",
    "    targets, regressors = zip(*[(doc.tags[0], model.infer_vector(doc.words, steps=20)) for doc in sents])\n",
    "    return targets, regressors "
   ]
  },
  {
   "cell_type": "code",
   "execution_count": 11,
   "metadata": {},
   "outputs": [
    {
     "data": {
      "application/vnd.jupyter.widget-view+json": {
       "model_id": "8d40e8f7e831453287dc7b5749c312d3",
       "version_major": 2,
       "version_minor": 0
      },
      "text/plain": [
       "HBox(children=(IntProgress(value=0, max=10066), HTML(value='')))"
      ]
     },
     "metadata": {},
     "output_type": "display_data"
    },
    {
     "name": "stdout",
     "output_type": "stream",
     "text": [
      "\n"
     ]
    },
    {
     "data": {
      "application/vnd.jupyter.widget-view+json": {
       "model_id": "68900539eec348919472928ad16d837a",
       "version_major": 2,
       "version_minor": 0
      },
      "text/plain": [
       "HBox(children=(IntProgress(value=0, max=2517), HTML(value='')))"
      ]
     },
     "metadata": {},
     "output_type": "display_data"
    },
    {
     "name": "stdout",
     "output_type": "stream",
     "text": [
      "\n"
     ]
    }
   ],
   "source": [
    "yTrain, xTrain = inferVectors(articlesModel, articlesTrain)\n",
    "yTest, xTest = inferVectors(articlesModel, articlesTest)"
   ]
  },
  {
   "cell_type": "code",
   "execution_count": 20,
   "metadata": {},
   "outputs": [],
   "source": [
    "clsModels = [LogisticRegression(n_jobs = cores,  C = 0.001, solver = \"sag\", multi_class = \"auto\"), \n",
    "            RandomForestClassifier(n_estimators = 1000, n_jobs = -1), \n",
    "             SVC(C = 1e5, gamma = \"auto\")]"
   ]
  },
  {
   "cell_type": "code",
   "execution_count": 21,
   "metadata": {},
   "outputs": [
    {
     "data": {
      "application/vnd.jupyter.widget-view+json": {
       "model_id": "d293907f766240fc99e3dcddcb6278d1",
       "version_major": 2,
       "version_minor": 0
      },
      "text/plain": [
       "HBox(children=(IntProgress(value=0, max=3), HTML(value='')))"
      ]
     },
     "metadata": {},
     "output_type": "display_data"
    },
    {
     "name": "stdout",
     "output_type": "stream",
     "text": [
      "LogisticRegression\n",
      "Training took:  0:00:01.337106\n",
      "Prediction took:  0:00:00.008674\n",
      "Accuracy:  0.8112832737385777\n",
      "\n",
      "Confusion matrix:\n",
      " [[343  34   4   1   2   3  24]\n",
      " [ 15 308   6   3   4   4  17]\n",
      " [  7  18 348   5  26   1   8]\n",
      " [  8  16   8 311  13   3  20]\n",
      " [  6  11  49   5  56  11  15]\n",
      " [  3  20   0   2   5 377  14]\n",
      " [ 13  48   4   6   6   7 299]]\n",
      "\n",
      "Classification report:\n",
      "               precision    recall  f1-score   support\n",
      "\n",
      "    ekonomia       0.87      0.83      0.85       411\n",
      "        kraj       0.68      0.86      0.76       357\n",
      "     kultura       0.83      0.84      0.84       413\n",
      "       nauka       0.93      0.82      0.87       379\n",
      "    rozrywka       0.50      0.37      0.42       153\n",
      "       sport       0.93      0.90      0.91       421\n",
      "       świat       0.75      0.78      0.77       383\n",
      "\n",
      "   micro avg       0.81      0.81      0.81      2517\n",
      "   macro avg       0.78      0.77      0.77      2517\n",
      "weighted avg       0.82      0.81      0.81      2517\n",
      "\n",
      "RandomForestClassifier\n",
      "Training took:  0:00:43.287602\n",
      "Prediction took:  0:00:00.714442\n",
      "Accuracy:  0.8025427095748907\n",
      "\n",
      "Confusion matrix:\n",
      " [[363  15   5   2   2   3  21]\n",
      " [ 25 276   8   3  10   4  31]\n",
      " [  5  15 341   8  33   0  11]\n",
      " [ 12   7  14 323   9   1  13]\n",
      " [  6   6  55  10  51  13  12]\n",
      " [  4  16   0   3   5 376  17]\n",
      " [ 21  40  10  10   4   8 290]]\n",
      "\n",
      "Classification report:\n",
      "               precision    recall  f1-score   support\n",
      "\n",
      "    ekonomia       0.83      0.88      0.86       411\n",
      "        kraj       0.74      0.77      0.75       357\n",
      "     kultura       0.79      0.83      0.81       413\n",
      "       nauka       0.90      0.85      0.88       379\n",
      "    rozrywka       0.45      0.33      0.38       153\n",
      "       sport       0.93      0.89      0.91       421\n",
      "       świat       0.73      0.76      0.75       383\n",
      "\n",
      "   micro avg       0.80      0.80      0.80      2517\n",
      "   macro avg       0.77      0.76      0.76      2517\n",
      "weighted avg       0.80      0.80      0.80      2517\n",
      "\n",
      "SVC\n",
      "Training took:  0:00:07.485626\n",
      "Prediction took:  0:00:02.103569\n",
      "Accuracy:  0.7564560985299961\n",
      "\n",
      "Confusion matrix:\n",
      " [[333  31   8   5   3   8  23]\n",
      " [ 30 268   9   9   6   8  27]\n",
      " [  8  31 299   6  52   1  16]\n",
      " [ 14  17   9 312   7   5  15]\n",
      " [  4   6  48  15  56   7  17]\n",
      " [  6   4   0   3   9 373  26]\n",
      " [ 32  38  13  10  15  12 263]]\n",
      "\n",
      "Classification report:\n",
      "               precision    recall  f1-score   support\n",
      "\n",
      "    ekonomia       0.78      0.81      0.79       411\n",
      "        kraj       0.68      0.75      0.71       357\n",
      "     kultura       0.77      0.72      0.75       413\n",
      "       nauka       0.87      0.82      0.84       379\n",
      "    rozrywka       0.38      0.37      0.37       153\n",
      "       sport       0.90      0.89      0.89       421\n",
      "       świat       0.68      0.69      0.68       383\n",
      "\n",
      "   micro avg       0.76      0.76      0.76      2517\n",
      "   macro avg       0.72      0.72      0.72      2517\n",
      "weighted avg       0.76      0.76      0.76      2517\n",
      "\n",
      "\n"
     ]
    }
   ],
   "source": [
    "for clsModel in tqdm(clsModels):\n",
    "    print(type(clsModel).__name__)\n",
    "    \n",
    "    funcTime = datetime.now()\n",
    "    clsModel.fit(xTrain, yTrain)\n",
    "    print(\"Training took: \", datetime.now() - funcTime)\n",
    "    \n",
    "    funcTime = datetime.now()\n",
    "    yPred = clsModel.predict(xTest)\n",
    "    print(\"Prediction took: \", datetime.now() - funcTime)\n",
    "    \n",
    "    print(\"Accuracy: \", accuracy_score(yTest, yPred))\n",
    "    print()\n",
    "    print(\"Confusion matrix:\\n\", confusion_matrix(yTest, yPred))\n",
    "    print()\n",
    "    print(\"Classification report:\\n\", classification_report(yTest, yPred))"
   ]
  },
  {
   "cell_type": "code",
   "execution_count": 32,
   "metadata": {},
   "outputs": [],
   "source": [
    "newText = \"\"\"W Chojnicach Stomil chciał się zrehabilitować za ubiegłotygodniową porażkę z Zagłębiem Sosnowiec, no i udało się to mu w 100 procentach!\n",
    "Reklama\n",
    "* Chojniczanka Chojnice - Stomil Olsztyn 1:3 (1:1)\n",
    "1:0 - Krystian Wachowiak (12), 1:1 - Grzegorz Lech (29), 1:2 - Artur Siemaszko (70), 1:3 - Oktawian Skrzecz (90)\n",
    "\n",
    "Chojniczanka: Radosław Janukiewicz - Jan Mudra, Seweryn Michalski, Hubert Wołąkiewicz, Kamil Sylwestrzak - Aghwan Papikjan, Michal Obročník, Bartosz Wolski (82 Toni Conejo), Emil Drozdowicz, Krystian Wachowiak (68 Mateusz Żukowski) - Tomasz Mikołajczak (56 Mateusz Kuzimski).\n",
    "Stomil: Piotr Skiba - Janusz Bucholc, Wiktor Biedrzycki, Ołeh Tarasenko, Lukáš Kubáň - Bartłomiej Niedziela (46 Oktawian Skrzecz), Maciej Pałaszewski, Wojciech Hajda, Grzegorz Lech (76 Waldemar Gancarczyk), Artur Siemaszko (88 Mateusz Gancarczyk) - Szymon Sobczak.\n",
    "\n",
    "Tydzień temu olsztynianie wygrywali 1:0, by ostatecznie przegrać 1:3, a tym razem role się odwróciły, bo Chojniczanka od 12. min prowadziła 1:0, ale na koniec z wygranej 3:1 cieszył się Stomil.\n",
    "Warto zauważyć, że wynik meczu ustalił Oktawian Skrzecz, ostatni nabytek olsztyńskiego pierwszoligowca. Przypominamy, że Skrzecz jest wychowankiem Lechii Gdańsk, występował w juniorskich zespołach Schalke 04 Gelsenkirchen, a w sezonie 2017/18 zagrał w 24 spotkaniach I ligi w barwach GKS Katowice. Do Stomilu został wypożyczony z Korony Kielce, w której w tym sezonie dwa razy wystąpił na boiskach Ekstraklasy. \"\"\""
   ]
  },
  {
   "cell_type": "code",
   "execution_count": 33,
   "metadata": {},
   "outputs": [
    {
     "data": {
      "text/plain": [
       "array(['sport'], dtype='<U8')"
      ]
     },
     "execution_count": 33,
     "metadata": {},
     "output_type": "execute_result"
    }
   ],
   "source": [
    "clsModel.predict([articlesModel.infer_vector(textProcess(newText), steps=20)])"
   ]
  },
  {
   "cell_type": "code",
   "execution_count": null,
   "metadata": {},
   "outputs": [],
   "source": [
    ":D "
   ]
  }
 ],
 "metadata": {
  "kernelspec": {
   "display_name": "Python 3",
   "language": "python",
   "name": "python3"
  },
  "language_info": {
   "codemirror_mode": {
    "name": "ipython",
    "version": 3
   },
   "file_extension": ".py",
   "mimetype": "text/x-python",
   "name": "python",
   "nbconvert_exporter": "python",
   "pygments_lexer": "ipython3",
   "version": "3.7.3"
  }
 },
 "nbformat": 4,
 "nbformat_minor": 2
}
