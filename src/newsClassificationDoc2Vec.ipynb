{
 "cells": [
  {
   "cell_type": "code",
   "execution_count": 38,
   "metadata": {},
   "outputs": [],
   "source": [
    "import numpy as np\n",
    "import pandas as pd\n",
    "\n",
    "import pickle\n",
    "import multiprocessing\n",
    "from datetime import datetime\n",
    "\n",
    "from nltk.corpus import stopwords\n",
    "from morfeusz2 import Morfeusz\n",
    "\n",
    "from gensim.models import Word2Vec, Doc2Vec\n",
    "from gensim.models.doc2vec import TaggedDocument\n",
    "from gensim.models.phrases import Phrases\n",
    "from gensim.utils import simple_preprocess\n",
    "\n",
    "from sklearn.model_selection import train_test_split\n",
    "from sklearn.metrics import confusion_matrix, classification_report, accuracy_score\n",
    "\n",
    "from sklearn.linear_model import LogisticRegression\n",
    "from sklearn.ensemble import RandomForestClassifier\n",
    "from sklearn.svm import SVC"
   ]
  },
  {
   "cell_type": "code",
   "execution_count": 2,
   "metadata": {},
   "outputs": [],
   "source": [
    "from tqdm.auto import tqdm\n",
    "tqdm.pandas()"
   ]
  },
  {
   "cell_type": "code",
   "execution_count": 3,
   "metadata": {},
   "outputs": [
    {
     "data": {
      "text/html": [
       "<div>\n",
       "<style scoped>\n",
       "    .dataframe tbody tr th:only-of-type {\n",
       "        vertical-align: middle;\n",
       "    }\n",
       "\n",
       "    .dataframe tbody tr th {\n",
       "        vertical-align: top;\n",
       "    }\n",
       "\n",
       "    .dataframe thead th {\n",
       "        text-align: right;\n",
       "    }\n",
       "</style>\n",
       "<table border=\"1\" class=\"dataframe\">\n",
       "  <thead>\n",
       "    <tr style=\"text-align: right;\">\n",
       "      <th></th>\n",
       "      <th>articleUrl</th>\n",
       "      <th>category</th>\n",
       "      <th>publicationTime</th>\n",
       "      <th>articleContent</th>\n",
       "      <th>articleLength</th>\n",
       "    </tr>\n",
       "    <tr>\n",
       "      <th>id</th>\n",
       "      <th></th>\n",
       "      <th></th>\n",
       "      <th></th>\n",
       "      <th></th>\n",
       "      <th></th>\n",
       "    </tr>\n",
       "  </thead>\n",
       "  <tbody>\n",
       "    <tr>\n",
       "      <th>1</th>\n",
       "      <td>https://www.rmf24.pl/fakty/polska/news-piontko...</td>\n",
       "      <td>kraj</td>\n",
       "      <td>2019-08-26T18:37:00</td>\n",
       "      <td>Szef MEN odniósł się do informacji podanych p...</td>\n",
       "      <td>2025</td>\n",
       "    </tr>\n",
       "    <tr>\n",
       "      <th>2</th>\n",
       "      <td>https://www.rmf24.pl/fakty/polska/news-rzeczni...</td>\n",
       "      <td>kraj</td>\n",
       "      <td>2019-08-26T17:47:28</td>\n",
       "      <td>Jak podkreślił Müller, Janusz Wojciechowski to...</td>\n",
       "      <td>983</td>\n",
       "    </tr>\n",
       "    <tr>\n",
       "      <th>3</th>\n",
       "      <td>https://www.rmf24.pl/fakty/polska/news-kto-bed...</td>\n",
       "      <td>kraj</td>\n",
       "      <td>2019-08-26T17:20:00</td>\n",
       "      <td>Z nieoficjalnych rozmów reportera RMF FM z prz...</td>\n",
       "      <td>884</td>\n",
       "    </tr>\n",
       "    <tr>\n",
       "      <th>4</th>\n",
       "      <td>https://www.rmf24.pl/fakty/polska/news-mieszka...</td>\n",
       "      <td>kraj</td>\n",
       "      <td>2019-08-26T17:09:20</td>\n",
       "      <td>Powód to groźne dla zdrowia bakterie - enter...</td>\n",
       "      <td>583</td>\n",
       "    </tr>\n",
       "    <tr>\n",
       "      <th>5</th>\n",
       "      <td>https://www.rmf24.pl/fakty/polska/news-ponad-3...</td>\n",
       "      <td>kraj</td>\n",
       "      <td>2019-08-26T17:01:00</td>\n",
       "      <td>Filip, Tymon, Zosia, Kaja, Malwina i Nela to p...</td>\n",
       "      <td>746</td>\n",
       "    </tr>\n",
       "  </tbody>\n",
       "</table>\n",
       "</div>"
      ],
      "text/plain": [
       "                                           articleUrl category  \\\n",
       "id                                                               \n",
       "1   https://www.rmf24.pl/fakty/polska/news-piontko...     kraj   \n",
       "2   https://www.rmf24.pl/fakty/polska/news-rzeczni...     kraj   \n",
       "3   https://www.rmf24.pl/fakty/polska/news-kto-bed...     kraj   \n",
       "4   https://www.rmf24.pl/fakty/polska/news-mieszka...     kraj   \n",
       "5   https://www.rmf24.pl/fakty/polska/news-ponad-3...     kraj   \n",
       "\n",
       "        publicationTime                                     articleContent  \\\n",
       "id                                                                           \n",
       "1   2019-08-26T18:37:00   Szef MEN odniósł się do informacji podanych p...   \n",
       "2   2019-08-26T17:47:28  Jak podkreślił Müller, Janusz Wojciechowski to...   \n",
       "3   2019-08-26T17:20:00  Z nieoficjalnych rozmów reportera RMF FM z prz...   \n",
       "4   2019-08-26T17:09:20    Powód to groźne dla zdrowia bakterie - enter...   \n",
       "5   2019-08-26T17:01:00  Filip, Tymon, Zosia, Kaja, Malwina i Nela to p...   \n",
       "\n",
       "    articleLength  \n",
       "id                 \n",
       "1            2025  \n",
       "2             983  \n",
       "3             884  \n",
       "4             583  \n",
       "5             746  "
      ]
     },
     "execution_count": 3,
     "metadata": {},
     "output_type": "execute_result"
    }
   ],
   "source": [
    "# reading DataFrame from pickle\n",
    "with open('../data/newsData.pickle', 'rb') as pickleInput:\n",
    "    articlesData = pickle.load(pickleInput)\n",
    "    \n",
    "articlesData.head()"
   ]
  },
  {
   "cell_type": "code",
   "execution_count": 47,
   "metadata": {},
   "outputs": [],
   "source": [
    "# article transformation/tokenisation\n",
    "morf = Morfeusz()\n",
    "\n",
    "def morfLemats(text, morf):\n",
    "    analysis = morf.analyse(text)\n",
    "    lemats = []\n",
    "    lineCount = 0\n",
    "    for line in analysis:\n",
    "        if line[0] == lineCount:\n",
    "            lineCount += 1\n",
    "            lemats.append(line[2][1].split(\":\")[0])\n",
    "            \n",
    "    return lemats\n",
    "\n",
    "def textProcess(mess):\n",
    "    # remove punctuation\n",
    "    mess = \" \".join(simple_preprocess(mess))\n",
    "\n",
    "    # change words to lemmats\n",
    "    mess = morfLemats(mess, morf)\n",
    "    \n",
    "    # remove stopwords\n",
    "    mess = [word for word in mess if word not in stopwords.words(\"polish\")]\n",
    "    \n",
    "    return mess"
   ]
  },
  {
   "cell_type": "code",
   "execution_count": 52,
   "metadata": {},
   "outputs": [
    {
     "data": {
      "application/vnd.jupyter.widget-view+json": {
       "model_id": "0a1e61c268354463b86c80bdfc511bcc",
       "version_major": 2,
       "version_minor": 0
      },
      "text/plain": [
       "HBox(children=(IntProgress(value=0, max=12583), HTML(value='')))"
      ]
     },
     "metadata": {},
     "output_type": "display_data"
    }
   ],
   "source": [
    "articlesData[\"articleContent\"] = articlesData.progress_apply(lambda article : textProcess(article[\"articleContent\"]), axis = 1)"
   ]
  },
  {
   "cell_type": "code",
   "execution_count": 77,
   "metadata": {},
   "outputs": [
    {
     "data": {
      "application/vnd.jupyter.widget-view+json": {
       "model_id": "30e30286a72c4c62be524952ce92ab8c",
       "version_major": 2,
       "version_minor": 0
      },
      "text/plain": [
       "HBox(children=(IntProgress(value=0, max=12583), HTML(value='')))"
      ]
     },
     "metadata": {},
     "output_type": "display_data"
    },
    {
     "data": {
      "application/vnd.jupyter.widget-view+json": {
       "model_id": "aeead526aa024430a077f3b27b874995",
       "version_major": 2,
       "version_minor": 0
      },
      "text/plain": [
       "HBox(children=(IntProgress(value=0, max=12583), HTML(value='')))"
      ]
     },
     "metadata": {},
     "output_type": "display_data"
    }
   ],
   "source": [
    "articlePhrases = Phrases(tqdm(articlesData[\"articleContent\"]), min_count=1, threshold=1)\n",
    "articlesData[\"articleContent\"] = articlesData.progress_apply(lambda article : articlePhrases[article[\"articleContent\"]] + article[\"articleContent\"], axis = 1)"
   ]
  },
  {
   "cell_type": "code",
   "execution_count": 78,
   "metadata": {},
   "outputs": [
    {
     "data": {
      "application/vnd.jupyter.widget-view+json": {
       "model_id": "c61034226ad749b3924d4395516b1167",
       "version_major": 2,
       "version_minor": 0
      },
      "text/plain": [
       "HBox(children=(IntProgress(value=0, max=12583), HTML(value='')))"
      ]
     },
     "metadata": {},
     "output_type": "display_data"
    }
   ],
   "source": [
    "articlesTagged = articlesData.progress_apply(lambda article: TaggedDocument(words=article['articleContent'], \n",
    "                                                                            tags=[article[\"category\"]]), axis=1)"
   ]
  },
  {
   "cell_type": "code",
   "execution_count": 133,
   "metadata": {},
   "outputs": [],
   "source": [
    "articlesTrain, articlesTest = train_test_split(articlesTagged, test_size=0.2)"
   ]
  },
  {
   "cell_type": "code",
   "execution_count": 134,
   "metadata": {},
   "outputs": [],
   "source": [
    "cores = multiprocessing.cpu_count()"
   ]
  },
  {
   "cell_type": "code",
   "execution_count": 135,
   "metadata": {},
   "outputs": [
    {
     "data": {
      "application/vnd.jupyter.widget-view+json": {
       "model_id": "2ebccc10178c417e81069436221597bf",
       "version_major": 2,
       "version_minor": 0
      },
      "text/plain": [
       "HBox(children=(IntProgress(value=0, max=10066), HTML(value='')))"
      ]
     },
     "metadata": {},
     "output_type": "display_data"
    }
   ],
   "source": [
    "articlesModel = Doc2Vec(vector_size=300,min_count = 1, window_size = 10, sample = 0, workers = cores)\n",
    "articlesModel.build_vocab([word for word in tqdm(articlesTrain.values)])"
   ]
  },
  {
   "cell_type": "code",
   "execution_count": 136,
   "metadata": {},
   "outputs": [
    {
     "data": {
      "application/vnd.jupyter.widget-view+json": {
       "model_id": "fe3e3ee56201456ab1afb8d5d8dfcc7e",
       "version_major": 2,
       "version_minor": 0
      },
      "text/plain": [
       "HBox(children=(IntProgress(value=0, max=10066), HTML(value='')))"
      ]
     },
     "metadata": {},
     "output_type": "display_data"
    },
    {
     "data": {
      "application/vnd.jupyter.widget-view+json": {
       "model_id": "77b088d60258484488f0e670d5fec976",
       "version_major": 2,
       "version_minor": 0
      },
      "text/plain": [
       "HBox(children=(IntProgress(value=0, max=10066), HTML(value='')))"
      ]
     },
     "metadata": {},
     "output_type": "display_data"
    },
    {
     "data": {
      "application/vnd.jupyter.widget-view+json": {
       "model_id": "c2d924b8b6d44c638614758735c128f7",
       "version_major": 2,
       "version_minor": 0
      },
      "text/plain": [
       "HBox(children=(IntProgress(value=0, max=10066), HTML(value='')))"
      ]
     },
     "metadata": {},
     "output_type": "display_data"
    },
    {
     "data": {
      "application/vnd.jupyter.widget-view+json": {
       "model_id": "3725ab3461ef4681bf509b6576b59a4f",
       "version_major": 2,
       "version_minor": 0
      },
      "text/plain": [
       "HBox(children=(IntProgress(value=0, max=10066), HTML(value='')))"
      ]
     },
     "metadata": {},
     "output_type": "display_data"
    },
    {
     "data": {
      "application/vnd.jupyter.widget-view+json": {
       "model_id": "7b854609429b476ca70cb0776cf49772",
       "version_major": 2,
       "version_minor": 0
      },
      "text/plain": [
       "HBox(children=(IntProgress(value=0, max=10066), HTML(value='')))"
      ]
     },
     "metadata": {},
     "output_type": "display_data"
    },
    {
     "data": {
      "application/vnd.jupyter.widget-view+json": {
       "model_id": "d8bd191a139c44f699291f88cf303219",
       "version_major": 2,
       "version_minor": 0
      },
      "text/plain": [
       "HBox(children=(IntProgress(value=0, max=10066), HTML(value='')))"
      ]
     },
     "metadata": {},
     "output_type": "display_data"
    },
    {
     "data": {
      "application/vnd.jupyter.widget-view+json": {
       "model_id": "309c3b0e96f34a0b9ce95894b2a02ab5",
       "version_major": 2,
       "version_minor": 0
      },
      "text/plain": [
       "HBox(children=(IntProgress(value=0, max=10066), HTML(value='')))"
      ]
     },
     "metadata": {},
     "output_type": "display_data"
    },
    {
     "data": {
      "application/vnd.jupyter.widget-view+json": {
       "model_id": "d9835d8745274751be8cde605a65ad08",
       "version_major": 2,
       "version_minor": 0
      },
      "text/plain": [
       "HBox(children=(IntProgress(value=0, max=10066), HTML(value='')))"
      ]
     },
     "metadata": {},
     "output_type": "display_data"
    },
    {
     "data": {
      "application/vnd.jupyter.widget-view+json": {
       "model_id": "51e66985a2ef4bca80f8cc8258e8016d",
       "version_major": 2,
       "version_minor": 0
      },
      "text/plain": [
       "HBox(children=(IntProgress(value=0, max=10066), HTML(value='')))"
      ]
     },
     "metadata": {},
     "output_type": "display_data"
    },
    {
     "data": {
      "application/vnd.jupyter.widget-view+json": {
       "model_id": "13152f556922451c849b4241356d26ee",
       "version_major": 2,
       "version_minor": 0
      },
      "text/plain": [
       "HBox(children=(IntProgress(value=0, max=10066), HTML(value='')))"
      ]
     },
     "metadata": {},
     "output_type": "display_data"
    },
    {
     "data": {
      "application/vnd.jupyter.widget-view+json": {
       "model_id": "e6ed89b9260f4e719cd9f603edec0395",
       "version_major": 2,
       "version_minor": 0
      },
      "text/plain": [
       "HBox(children=(IntProgress(value=0, max=10066), HTML(value='')))"
      ]
     },
     "metadata": {},
     "output_type": "display_data"
    },
    {
     "data": {
      "application/vnd.jupyter.widget-view+json": {
       "model_id": "b292ddfe3b7f4513abef862c9bce7a66",
       "version_major": 2,
       "version_minor": 0
      },
      "text/plain": [
       "HBox(children=(IntProgress(value=0, max=10066), HTML(value='')))"
      ]
     },
     "metadata": {},
     "output_type": "display_data"
    },
    {
     "data": {
      "application/vnd.jupyter.widget-view+json": {
       "model_id": "134d03d35cc04e8c9b1db64371472649",
       "version_major": 2,
       "version_minor": 0
      },
      "text/plain": [
       "HBox(children=(IntProgress(value=0, max=10066), HTML(value='')))"
      ]
     },
     "metadata": {},
     "output_type": "display_data"
    },
    {
     "data": {
      "application/vnd.jupyter.widget-view+json": {
       "model_id": "2000d629c6004884b5b1aaf3d7816363",
       "version_major": 2,
       "version_minor": 0
      },
      "text/plain": [
       "HBox(children=(IntProgress(value=0, max=10066), HTML(value='')))"
      ]
     },
     "metadata": {},
     "output_type": "display_data"
    },
    {
     "data": {
      "application/vnd.jupyter.widget-view+json": {
       "model_id": "70a915733c17442195a0a0a28f0e9b78",
       "version_major": 2,
       "version_minor": 0
      },
      "text/plain": [
       "HBox(children=(IntProgress(value=0, max=10066), HTML(value='')))"
      ]
     },
     "metadata": {},
     "output_type": "display_data"
    },
    {
     "data": {
      "application/vnd.jupyter.widget-view+json": {
       "model_id": "25623d5d6f5b4995844eaeb5f2e00fe3",
       "version_major": 2,
       "version_minor": 0
      },
      "text/plain": [
       "HBox(children=(IntProgress(value=0, max=10066), HTML(value='')))"
      ]
     },
     "metadata": {},
     "output_type": "display_data"
    },
    {
     "data": {
      "application/vnd.jupyter.widget-view+json": {
       "model_id": "e5272f6778694c45b0f11dc949f32d42",
       "version_major": 2,
       "version_minor": 0
      },
      "text/plain": [
       "HBox(children=(IntProgress(value=0, max=10066), HTML(value='')))"
      ]
     },
     "metadata": {},
     "output_type": "display_data"
    },
    {
     "data": {
      "application/vnd.jupyter.widget-view+json": {
       "model_id": "b46bee1094b445cea6bbff4b82e43fe5",
       "version_major": 2,
       "version_minor": 0
      },
      "text/plain": [
       "HBox(children=(IntProgress(value=0, max=10066), HTML(value='')))"
      ]
     },
     "metadata": {},
     "output_type": "display_data"
    },
    {
     "data": {
      "application/vnd.jupyter.widget-view+json": {
       "model_id": "9b64234cd9c24b128697d2cbdd9e6a07",
       "version_major": 2,
       "version_minor": 0
      },
      "text/plain": [
       "HBox(children=(IntProgress(value=0, max=10066), HTML(value='')))"
      ]
     },
     "metadata": {},
     "output_type": "display_data"
    },
    {
     "data": {
      "application/vnd.jupyter.widget-view+json": {
       "model_id": "b74cc26e90284dd2b35da63445dd2662",
       "version_major": 2,
       "version_minor": 0
      },
      "text/plain": [
       "HBox(children=(IntProgress(value=0, max=10066), HTML(value='')))"
      ]
     },
     "metadata": {},
     "output_type": "display_data"
    }
   ],
   "source": [
    "for epoch in range(20):\n",
    "    articlesModel.train(tqdm(articlesTrain), total_examples=articlesModel.corpus_count, epochs=1)"
   ]
  },
  {
   "cell_type": "code",
   "execution_count": 137,
   "metadata": {},
   "outputs": [],
   "source": [
    "def inferVectors(model, tagged_docs, phrases):\n",
    "    sents = tqdm(tagged_docs.values)\n",
    "    targets, regressors = zip(*[(doc.tags[0], model.infer_vector(phrases[doc.words], steps=20)) for doc in sents])\n",
    "    return targets, regressors "
   ]
  },
  {
   "cell_type": "code",
   "execution_count": 138,
   "metadata": {},
   "outputs": [
    {
     "data": {
      "application/vnd.jupyter.widget-view+json": {
       "model_id": "5f68af9c2fcd4f3fb74312c970015a13",
       "version_major": 2,
       "version_minor": 0
      },
      "text/plain": [
       "HBox(children=(IntProgress(value=0, max=10066), HTML(value='')))"
      ]
     },
     "metadata": {},
     "output_type": "display_data"
    },
    {
     "data": {
      "application/vnd.jupyter.widget-view+json": {
       "model_id": "a678313a822b43fc90228f04ba85637f",
       "version_major": 2,
       "version_minor": 0
      },
      "text/plain": [
       "HBox(children=(IntProgress(value=0, max=2517), HTML(value='')))"
      ]
     },
     "metadata": {},
     "output_type": "display_data"
    }
   ],
   "source": [
    "yTrain, xTrain = inferVectors(articlesModel, articlesTrain, articlePhrases)\n",
    "yTest, xTest = inferVectors(articlesModel, articlesTest, articlePhrases)"
   ]
  },
  {
   "cell_type": "code",
   "execution_count": 139,
   "metadata": {},
   "outputs": [],
   "source": [
    "clsModels = [LogisticRegression(n_jobs = cores,  C = 0.001, solver = \"sag\", multi_class = \"auto\"), \n",
    "            RandomForestClassifier(n_estimators = 1000, n_jobs = -1), \n",
    "             SVC(C = 1e5, gamma = \"auto\")]"
   ]
  },
  {
   "cell_type": "code",
   "execution_count": 140,
   "metadata": {},
   "outputs": [
    {
     "data": {
      "application/vnd.jupyter.widget-view+json": {
       "model_id": "665828056e4545f7a30746cbe6a34989",
       "version_major": 2,
       "version_minor": 0
      },
      "text/plain": [
       "HBox(children=(IntProgress(value=0, max=3), HTML(value='')))"
      ]
     },
     "metadata": {},
     "output_type": "display_data"
    },
    {
     "name": "stdout",
     "output_type": "stream",
     "text": [
      "LogisticRegression\n",
      "Training took:  0:00:06.462138\n",
      "Prediction took:  0:00:00.264695\n",
      "Accuracy:  0.8263806118394914\n",
      "\n",
      "Confusion matrix:\n",
      " [[345  17   0   3   1   4  16]\n",
      " [ 21 333   5   8   2   3  12]\n",
      " [  3  13 304   5  37   3   3]\n",
      " [ 12   9   7 337   7   3   9]\n",
      " [  4  10  53   5  70   6  10]\n",
      " [  3  11   1   2   5 382   8]\n",
      " [ 19  60   6   8  13  10 309]]\n",
      "\n",
      "Classification report:\n",
      "               precision    recall  f1-score   support\n",
      "\n",
      "    ekonomia       0.85      0.89      0.87       386\n",
      "        kraj       0.74      0.87      0.80       384\n",
      "     kultura       0.81      0.83      0.82       368\n",
      "       nauka       0.92      0.88      0.90       384\n",
      "    rozrywka       0.52      0.44      0.48       158\n",
      "       sport       0.93      0.93      0.93       412\n",
      "       świat       0.84      0.73      0.78       425\n",
      "\n",
      "   micro avg       0.83      0.83      0.83      2517\n",
      "   macro avg       0.80      0.79      0.80      2517\n",
      "weighted avg       0.83      0.83      0.82      2517\n",
      "\n",
      "RandomForestClassifier\n",
      "Training took:  0:00:54.086889\n",
      "Prediction took:  0:00:02.329855\n",
      "Accuracy:  0.8311481922924115\n",
      "\n",
      "Confusion matrix:\n",
      " [[337  18   1   4   2   4  20]\n",
      " [ 24 322   6   9   0   3  20]\n",
      " [  4   8 314   7  29   2   4]\n",
      " [  8   6   5 351   3   2   9]\n",
      " [  5   7  58  10  57   7  14]\n",
      " [  2   9   2   2   3 385   9]\n",
      " [ 20  40   8  13   8  10 326]]\n",
      "\n",
      "Classification report:\n",
      "               precision    recall  f1-score   support\n",
      "\n",
      "    ekonomia       0.84      0.87      0.86       386\n",
      "        kraj       0.79      0.84      0.81       384\n",
      "     kultura       0.80      0.85      0.82       368\n",
      "       nauka       0.89      0.91      0.90       384\n",
      "    rozrywka       0.56      0.36      0.44       158\n",
      "       sport       0.93      0.93      0.93       412\n",
      "       świat       0.81      0.77      0.79       425\n",
      "\n",
      "   micro avg       0.83      0.83      0.83      2517\n",
      "   macro avg       0.80      0.79      0.79      2517\n",
      "weighted avg       0.83      0.83      0.83      2517\n",
      "\n",
      "SVC\n",
      "Training took:  0:00:03.378915\n",
      "Prediction took:  0:00:01.298895\n",
      "Accuracy:  0.7731426301152166\n",
      "\n",
      "Confusion matrix:\n",
      " [[327  29   1   4   3   6  16]\n",
      " [ 35 281   5  17   5   7  34]\n",
      " [  6  18 265   6  67   2   4]\n",
      " [ 15  10   8 337   1   6   7]\n",
      " [  7   8  61  12  52   8  10]\n",
      " [  3   8   2   4   5 381   9]\n",
      " [ 30  43   9  20   8  12 303]]\n",
      "\n",
      "Classification report:\n",
      "               precision    recall  f1-score   support\n",
      "\n",
      "    ekonomia       0.77      0.85      0.81       386\n",
      "        kraj       0.71      0.73      0.72       384\n",
      "     kultura       0.75      0.72      0.74       368\n",
      "       nauka       0.84      0.88      0.86       384\n",
      "    rozrywka       0.37      0.33      0.35       158\n",
      "       sport       0.90      0.92      0.91       412\n",
      "       świat       0.79      0.71      0.75       425\n",
      "\n",
      "   micro avg       0.77      0.77      0.77      2517\n",
      "   macro avg       0.73      0.73      0.73      2517\n",
      "weighted avg       0.77      0.77      0.77      2517\n",
      "\n"
     ]
    }
   ],
   "source": [
    "for clsModel in tqdm(clsModels):\n",
    "    print(type(clsModel).__name__)\n",
    "    \n",
    "    funcTime = datetime.now()\n",
    "    clsModel.fit(xTrain, yTrain)\n",
    "    print(\"Training took: \", datetime.now() - funcTime)\n",
    "    \n",
    "    funcTime = datetime.now()\n",
    "    yPred = clsModel.predict(xTest)\n",
    "    print(\"Prediction took: \", datetime.now() - funcTime)\n",
    "    \n",
    "    print(\"Accuracy: \", accuracy_score(yTest, yPred))\n",
    "    print()\n",
    "    print(\"Confusion matrix:\\n\", confusion_matrix(yTest, yPred))\n",
    "    print()\n",
    "    print(\"Classification report:\\n\", classification_report(yTest, yPred))"
   ]
  },
  {
   "cell_type": "code",
   "execution_count": 141,
   "metadata": {},
   "outputs": [],
   "source": [
    "newText = \"\"\"\n",
    "Jak popularyzować wiedzę o kosmosie? Skąd brać na to pieniądze? Między innymi o tym rozmawiali w Olsztynie pasjonaci astronomii.\n",
    "\n",
    "– Zainteresowanie kosmosem jest wciągające – uważa profesor Marek Sarna z Polskiego Towarzystwa Astronomicznego.\n",
    "– Space Forum 2019 zgromadziło organizacje i osoby, które starają się zarazić innych swoją pasją związaną z poznawaniem wszechświata – mówi organizator wydarzenia Robert Szaj z Fundacji Nicolaus Copernicus.\n",
    "Podczas Forum można m.in. poznać zasady pisania wniosków o dofinansowania na projekty związane z popularyzacją wiedzy o kosmosie, omawiane są metody współpracy z mediami i przedstawiane najciekawsze wydarzenia upowszechniające astronomię w Polsce.\n",
    "\n",
    "W poniedziałek rozpocznie się 39. Zjazd Polskiego Towarzystwa Astronomicznego, który odbywa się w tym roku w Olsztynie. Space Forum organizują Fundacja Nicolaus Copernicus i Fundacja Winnice Północy.\n",
    "\"\"\""
   ]
  },
  {
   "cell_type": "code",
   "execution_count": 142,
   "metadata": {},
   "outputs": [
    {
     "data": {
      "text/plain": [
       "array(['nauka'], dtype='<U8')"
      ]
     },
     "execution_count": 142,
     "metadata": {},
     "output_type": "execute_result"
    }
   ],
   "source": [
    "clsModel.predict([articlesModel.infer_vector(articlePhrases[textProcess(newText)], steps=20)])"
   ]
  },
  {
   "cell_type": "code",
   "execution_count": 143,
   "metadata": {},
   "outputs": [],
   "source": [
    "# Not bad! But does it get the context?"
   ]
  },
  {
   "cell_type": "code",
   "execution_count": 144,
   "metadata": {},
   "outputs": [
    {
     "data": {
      "text/plain": [
       "[('Leszek', 0.7429794073104858),\n",
       " ('Sławomir', 0.7065836191177368),\n",
       " ('Jarosława', 0.6906055212020874),\n",
       " ('Mirosław', 0.675957441329956),\n",
       " ('Aleksander', 0.6708194017410278),\n",
       " ('kołtun', 0.6673728227615356),\n",
       " ('Jakubik', 0.66184401512146),\n",
       " ('PiS_Ryszard', 0.6575844287872314),\n",
       " ('Jakub', 0.6574205756187439),\n",
       " ('Henryk', 0.6567180752754211)]"
      ]
     },
     "execution_count": 144,
     "metadata": {},
     "output_type": "execute_result"
    }
   ],
   "source": [
    "articlesModel.wv.most_similar(articlePhrases[[\"Jarosław\"]])"
   ]
  },
  {
   "cell_type": "code",
   "execution_count": 145,
   "metadata": {},
   "outputs": [
    {
     "data": {
      "text/plain": [
       "[('klub_Kukiz', 0.8389977216720581),\n",
       " ('PSL_Władysław', 0.8230854868888855),\n",
       " ('podkreślać_zabójca', 0.8207553625106812),\n",
       " ('marszałek_sejm', 0.8206610083580017),\n",
       " ('prezes_PiS', 0.8199045658111572),\n",
       " ('marek_Kuchciński', 0.8197516202926636),\n",
       " ('Robert_Biedroń', 0.8171521425247192),\n",
       " ('Kidawa_błoński', 0.813496470451355),\n",
       " ('Andrzej_duda', 0.812714159488678),\n",
       " ('premier_europosłanka', 0.8105580806732178)]"
      ]
     },
     "execution_count": 145,
     "metadata": {},
     "output_type": "execute_result"
    }
   ],
   "source": [
    "articlesModel.wv.most_similar(articlePhrases[[\"Jarosław\", \"Kaczyński\"]])"
   ]
  },
  {
   "cell_type": "code",
   "execution_count": null,
   "metadata": {},
   "outputs": [],
   "source": []
  }
 ],
 "metadata": {
  "kernelspec": {
   "display_name": "Python 3",
   "language": "python",
   "name": "python3"
  },
  "language_info": {
   "codemirror_mode": {
    "name": "ipython",
    "version": 3
   },
   "file_extension": ".py",
   "mimetype": "text/x-python",
   "name": "python",
   "nbconvert_exporter": "python",
   "pygments_lexer": "ipython3",
   "version": "3.7.3"
  }
 },
 "nbformat": 4,
 "nbformat_minor": 2
}
